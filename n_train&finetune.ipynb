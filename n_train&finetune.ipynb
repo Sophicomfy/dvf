{
 "cells": [
  {
   "cell_type": "markdown",
   "metadata": {},
   "source": [
    "# Training Scripts\n",
    "ensure the notebook is running on `Python (env_dvf)` kernel"
   ]
  },
  {
   "cell_type": "code",
   "execution_count": null,
   "metadata": {},
   "outputs": [],
   "source": [
    "# Change directory where the scripts are located\n",
    "import os\n",
    "\n",
    "# Change directory\n",
    "os.chdir('/notebooks/dvf')\n",
    "\n",
    "# Verify the change\n",
    "print(os.getcwd())"
   ]
  },
  {
   "cell_type": "markdown",
   "metadata": {},
   "source": [
    "# Training"
   ]
  },
  {
   "cell_type": "code",
   "execution_count": null,
   "metadata": {},
   "outputs": [],
   "source": [
    "%run train.py --mode train --name_exp lttr_fine_tuned_on_dvf --model_name main_model --batch_size 32 --max_seq_len 51 --lang eng --ref_nshot 4 --n_epochs 1250 --init_epoch 900 --data_root \"./data_dvf_orig/vecfont_dataset\""
   ]
  },
  {
   "cell_type": "markdown",
   "metadata": {},
   "source": [
    "# Fine Tunning\n"
   ]
  },
  {
   "cell_type": "code",
   "execution_count": null,
   "metadata": {},
   "outputs": [],
   "source": [
    "%run train.py --mode train --name_exp lttr_fine_tuned_on_dvf --model_name main_model --batch_size 32 --max_seq_len 51 --lang eng --ref_nshot 4 --n_epochs 1250 --init_epoch 900 --data_root \"./data_dvf_orig/vecfont_dataset\""
   ]
  }
 ],
 "metadata": {
  "kernelspec": {
   "display_name": "Python 3 (ipykernel)",
   "language": "python",
   "name": "python3"
  },
  "language_info": {
   "codemirror_mode": {
    "name": "ipython",
    "version": 3
   },
   "file_extension": ".py",
   "mimetype": "text/x-python",
   "name": "python",
   "nbconvert_exporter": "python",
   "pygments_lexer": "ipython3",
   "version": "3.11.7"
  }
 },
 "nbformat": 4,
 "nbformat_minor": 4
}
