{
 "cells": [
  {
   "cell_type": "markdown",
   "metadata": {},
   "source": [
    "# Prerequisites\n",
    "ensure the notebook is running on `Python (env_dvf)` kernel"
   ]
  },
  {
   "cell_type": "code",
   "execution_count": null,
   "metadata": {},
   "outputs": [],
   "source": [
    "# Change directory where the scripts are located\n",
    "import os\n",
    "\n",
    "# Change directory\n",
    "os.chdir('/notebooks/dvf')\n",
    "\n",
    "# Verify the change\n",
    "print(os.getcwd())"
   ]
  },
  {
   "cell_type": "markdown",
   "metadata": {},
   "source": [
    "# Training\n",
    "| model name           | checkpoint | checkpoint file    | model directory           | results directory |\n",
    "| -------------------- | ---------- | ------------------ | ------------------------- | ----------------- |\n",
    "| lttr 24 base 300     | 300        | `300_240216.ckpt`  | lttr_24_base              |                   |\n",
    "| lttr 24 base 500     | 500        | `500_17535.ckpt`   | lttr_24_base              |                   |\n",
    "| lttr 24 base 600     | 600        | `600_21035.ckpt`   | lttr_24_base              |                   |\n",
    "| dvf base  600        | 600        | `600_192921.ckpt`  | dvf_orig_eng              |                   |\n",
    "| lttr fine tuned 1000 | 1000       | `1000_321321.ckpt` | lttr_fine_tuned_on_dvf    |                   |\n",
    "| lttr fine tuned 1100 | 1100       | `1100_353421.ckpt` | lttr_fine_tuned_on_dvf    |                   |\n",
    "| lttr fine tuned 1200 | 1200       | `1200_385521.ckpt` | lttr_fine_tuned_on_dvf    |                   |\n",
    "| dvf fine tuned 800   | 800        | `800_28035.ckpt`   | dvf_fine_tuned_on_lttr_24 |                   |\n",
    "| dvf fine tuned 1000  | 1000       | `1000_35035.ckpt`  | dvf_fine_tuned_on_lttr_24 |                   |"
   ]
  },
  {
   "cell_type": "code",
   "execution_count": null,
   "metadata": {},
   "outputs": [],
   "source": [
    "%run train.py --mode train --name_exp lttr_fine_tuned_on_dvf --model_name main_model --batch_size 32 --max_seq_len 51 --lang eng --ref_nshot 4 --n_epochs 1250 --init_epoch 900 --data_root \"./data_dvf_orig/vecfont_dataset\""
   ]
  },
  {
   "cell_type": "markdown",
   "metadata": {},
   "source": [
    "## Fine Tunning\n"
   ]
  },
  {
   "cell_type": "code",
   "execution_count": null,
   "metadata": {},
   "outputs": [],
   "source": [
    "%run train.py --mode train --name_exp lttr_fine_tuned_on_dvf --model_name main_model --batch_size 32 --max_seq_len 51 --lang eng --ref_nshot 4 --n_epochs 1250 --init_epoch 900 --data_root \"./data_dvf_orig/vecfont_dataset\""
   ]
  },
  {
   "cell_type": "markdown",
   "metadata": {},
   "source": [
    "# Inference\n",
    "\n",
    "| model name           | checkpoint | checkpoint file    | model directory           | results directory |\n",
    "| -------------------- | ---------- | ------------------ | ------------------------- | ----------------- |\n",
    "| lttr 24 base 300     | 300        | `300_240216.ckpt`  | lttr_24_base              |                   |\n",
    "| lttr 24 base 500     | 500        | `500_17535.ckpt`   | lttr_24_base              |                   |\n",
    "| lttr 24 base 600     | 600        | `600_21035.ckpt`   | lttr_24_base              |                   |\n",
    "| dvf base  600        | 600        | `600_192921.ckpt`  | dvf_orig_eng              |                   |\n",
    "| lttr fine tuned 1000 | 1000       | `1000_321321.ckpt` | lttr_fine_tuned_on_dvf    |                   |\n",
    "| lttr fine tuned 1100 | 1100       | `1100_353421.ckpt` | lttr_fine_tuned_on_dvf    |                   |\n",
    "| lttr fine tuned 1200 | 1200       | `1200_385521.ckpt` | lttr_fine_tuned_on_dvf    |                   |\n",
    "| dvf fine tuned 800   | 800        | `800_28035.ckpt`   | dvf_fine_tuned_on_lttr_24 |                   |\n",
    "| dvf fine tuned 1000  | 1000       | `1000_35035.ckpt`  | dvf_fine_tuned_on_lttr_24 |                   |"
   ]
  },
  {
   "cell_type": "code",
   "execution_count": null,
   "metadata": {},
   "outputs": [],
   "source": [
    "CUDA_VISIBLE_DEVICES=0 python test_few_shot.py --mode test --name_exp lttr_fine_tuned_on_dvf --model_name main_model  --name_ckpt 1100_353421.ckpt --data_root \"./data_lttr_testing/otf_dataset/\" --batch_size 1 --n_samples 20 --ref_nshot 4 --ref_char_ids 28,33,40,50"
   ]
  }
 ],
 "metadata": {
  "kernelspec": {
   "display_name": "Python 3 (ipykernel)",
   "language": "python",
   "name": "python3"
  },
  "language_info": {
   "codemirror_mode": {
    "name": "ipython",
    "version": 3
   },
   "file_extension": ".py",
   "mimetype": "text/x-python",
   "name": "python",
   "nbconvert_exporter": "python",
   "pygments_lexer": "ipython3",
   "version": "3.11.7"
  }
 },
 "nbformat": 4,
 "nbformat_minor": 4
}
