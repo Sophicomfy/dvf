{
 "cells": [
  {
   "cell_type": "code",
   "execution_count": null,
   "metadata": {
    "execution": {
     "iopub.execute_input": "2024-06-03T11:25:26.060299Z",
     "iopub.status.busy": "2024-06-03T11:25:26.059425Z",
     "iopub.status.idle": "2024-06-03T11:25:26.221296Z",
     "shell.execute_reply": "2024-06-03T11:25:26.220143Z",
     "shell.execute_reply.started": "2024-06-03T11:25:26.060269Z"
    }
   },
   "outputs": [
    {
     "name": "stdout",
     "output_type": "stream",
     "text": [
      "* \u001b[32mmain\u001b[m\n"
     ]
    }
   ],
   "source": [
    "# Check the Current Branch:\n",
    "!git branch"
   ]
  },
  {
   "cell_type": "code",
   "execution_count": 4,
   "metadata": {
    "execution": {
     "iopub.execute_input": "2024-06-03T11:26:30.730023Z",
     "iopub.status.busy": "2024-06-03T11:26:30.729603Z",
     "iopub.status.idle": "2024-06-03T11:26:30.736095Z",
     "shell.execute_reply": "2024-06-03T11:26:30.734688Z",
     "shell.execute_reply.started": "2024-06-03T11:26:30.729986Z"
    }
   },
   "outputs": [],
   "source": [
    "# test\n",
    "!git pull origin main"
   ]
  },
  {
   "cell_type": "code",
   "execution_count": null,
   "metadata": {},
   "outputs": [],
   "source": []
  }
 ],
 "metadata": {
  "kernelspec": {
   "display_name": "Python 3 (ipykernel)",
   "language": "python",
   "name": "python3"
  },
  "language_info": {
   "codemirror_mode": {
    "name": "ipython",
    "version": 3
   },
   "file_extension": ".py",
   "mimetype": "text/x-python",
   "name": "python",
   "nbconvert_exporter": "python",
   "pygments_lexer": "ipython3",
   "version": "3.11.7"
  }
 },
 "nbformat": 4,
 "nbformat_minor": 4
}
