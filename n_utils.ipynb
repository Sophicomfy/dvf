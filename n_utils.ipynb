{
 "cells": [
  {
   "cell_type": "markdown",
   "metadata": {},
   "source": [
    "## Git management"
   ]
  },
  {
   "cell_type": "code",
   "execution_count": null,
   "metadata": {},
   "outputs": [],
   "source": [
    "# Stash changes\n",
    "!git stash"
   ]
  },
  {
   "cell_type": "code",
   "execution_count": 4,
   "metadata": {
    "execution": {
     "iopub.execute_input": "2024-06-03T11:26:30.730023Z",
     "iopub.status.busy": "2024-06-03T11:26:30.729603Z",
     "iopub.status.idle": "2024-06-03T11:26:30.736095Z",
     "shell.execute_reply": "2024-06-03T11:26:30.734688Z",
     "shell.execute_reply.started": "2024-06-03T11:26:30.729986Z"
    }
   },
   "outputs": [],
   "source": [
    "# Pull request\n",
    "!git pull origin main"
   ]
  },
  {
   "cell_type": "markdown",
   "metadata": {},
   "source": [
    "## FontForge"
   ]
  },
  {
   "cell_type": "code",
   "execution_count": null,
   "metadata": {},
   "outputs": [],
   "source": [
    "# Install `FontForge`\n",
    "!echo \"Y\" | sudo apt install python3-fontforge"
   ]
  },
  {
   "cell_type": "code",
   "execution_count": null,
   "metadata": {},
   "outputs": [],
   "source": [
    "# Print Character Set Unicode\n",
    "!fontforge -script ./data_utils_ext/print_charset_unicode.py --font \"/datasets/lttr_ext/00000.otf\" --glyph \"uni id charname char\""
   ]
  },
  {
   "cell_type": "code",
   "execution_count": null,
   "metadata": {},
   "outputs": [],
   "source": [
    "# Charset parser\n",
    "!python charset_parser.py \"../char_set/latin_extended_unicode.txt\" --data_type dec"
   ]
  },
  {
   "cell_type": "markdown",
   "metadata": {},
   "source": [
    "## File Handling\n"
   ]
  },
  {
   "cell_type": "code",
   "execution_count": null,
   "metadata": {},
   "outputs": [],
   "source": [
    "# remove Jupyter checkpoints\n",
    "!find / -name '.ipynb_checkpoints' -type f"
   ]
  },
  {
   "cell_type": "code",
   "execution_count": null,
   "metadata": {},
   "outputs": [],
   "source": [
    "# update permissions\n",
    "!/notebooks/dvf10/utils/update_permissions.sh /notebooks/dvf10/data_lttr_ext/font_sfds\n"
   ]
  },
  {
   "cell_type": "code",
   "execution_count": null,
   "metadata": {},
   "outputs": [],
   "source": [
    "# remove selected directories and files\n",
    "!rm -rf /notebooks/dvf10/path/to/folder/file"
   ]
  }
 ],
 "metadata": {
  "kernelspec": {
   "display_name": "Python 3 (ipykernel)",
   "language": "python",
   "name": "python3"
  },
  "language_info": {
   "codemirror_mode": {
    "name": "ipython",
    "version": 3
   },
   "file_extension": ".py",
   "mimetype": "text/x-python",
   "name": "python",
   "nbconvert_exporter": "python",
   "pygments_lexer": "ipython3",
   "version": "3.11.7"
  }
 },
 "nbformat": 4,
 "nbformat_minor": 4
}
