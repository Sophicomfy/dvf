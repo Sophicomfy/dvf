{
 "cells": [
  {
   "cell_type": "markdown",
   "metadata": {},
   "source": [
    "# Preprocess dataset extended"
   ]
  },
  {
   "cell_type": "code",
   "execution_count": null,
   "metadata": {},
   "outputs": [],
   "source": [
    "# Change directory where the scripts are located\n",
    "import os\n",
    "os.chdir('/notebooks/dvf10/data_utils_ext/')\n",
    "# Verify the change\n",
    "print(os.getcwd())"
   ]
  },
  {
   "cell_type": "markdown",
   "metadata": {},
   "source": [
    "Ensure the there is not `Python (env_dvf)` kernel running"
   ]
  },
  {
   "cell_type": "code",
   "execution_count": null,
   "metadata": {},
   "outputs": [],
   "source": [
    "# Convert to SDFs\n",
    "!/usr/bin/python3 convert_ttf_to_sfd.py --ttf_path \"/datasets/lttr_ext\" --sfd_path \"../data_lttr_ext/sfds\" --charset_path \"/notebooks/dvf10/char_set/latin_extended_complete.txt\"  --workers 4 --margin 120 --char_type dec"
   ]
  },
  {
   "cell_type": "markdown",
   "metadata": {},
   "source": [
    "## Activate `Python (env_dvf)` kernel\n",
    "Open a terminal in your Paperspace notebook and run:\n",
    "```bash\n",
    "source /notebooks/env_dvf/bin/activate\n",
    "```\n",
    "Add your virtual environment as a Jupyter kernel:\n",
    "```bash\n",
    "python -m ipykernel install --user --name=env_dvf --display-name \"Python (env_dvf)\"\n",
    "```"
   ]
  },
  {
   "cell_type": "code",
   "execution_count": null,
   "metadata": {},
   "outputs": [],
   "source": [
    "# Write `.npy`s of images\n",
    "!python write_glyph_imgs.py --ttf_path \"/datasets/lttr_ext\" --sfd_path \"../data_lttr_ext/sfds\" --charset_path \"../char_set/latin_extended_unicode.txt\" --img_size 100"
   ]
  },
  {
   "cell_type": "code",
   "execution_count": null,
   "metadata": {},
   "outputs": [],
   "source": [
    "# Write data `.npy` files to `vecfont_dataset`\n",
    "!python write_data_to_dirs.py --ttf_path \"..data_lttr_ext/font_ttfs\" --sfd_path \"../data_lttr_ext/sfds\" --output_path \"../data_lttr_ext/vecfont_dataset\" --charset_path \"../char_set/latin_extended_unicode.txt\" --img_size 100"
   ]
  },
  {
   "cell_type": "code",
   "execution_count": null,
   "metadata": {},
   "outputs": [],
   "source": [
    "!python relax_rep.py --split train --language eng --max_len 51 --output_path \"../data_lttr_ext/vecfont_dataset\""
   ]
  }
 ],
 "metadata": {
  "kernelspec": {
   "display_name": "Python 3 (ipykernel)",
   "language": "python",
   "name": "python3"
  },
  "language_info": {
   "codemirror_mode": {
    "name": "ipython",
    "version": 3
   },
   "file_extension": ".py",
   "mimetype": "text/x-python",
   "name": "python",
   "nbconvert_exporter": "python",
   "pygments_lexer": "ipython3",
   "version": "3.11.7"
  }
 },
 "nbformat": 4,
 "nbformat_minor": 4
}
