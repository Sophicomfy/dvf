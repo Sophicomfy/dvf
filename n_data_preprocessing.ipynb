{
 "cells": [
  {
   "cell_type": "markdown",
   "metadata": {},
   "source": [
    "# Preprocess dataset extended"
   ]
  },
  {
   "cell_type": "code",
   "execution_count": null,
   "metadata": {},
   "outputs": [],
   "source": [
    "# Install `FontForge`\n",
    "!echo \"Y\" | sudo apt install python3-fontforge"
   ]
  },
  {
   "cell_type": "code",
   "execution_count": null,
   "metadata": {},
   "outputs": [],
   "source": [
    "# Change directory where the scripts are located\n",
    "import os\n",
    "\n",
    "# Change directory\n",
    "os.chdir('/notebooks/dvf')\n",
    "\n",
    "# Verify the change\n",
    "print(os.getcwd())"
   ]
  },
  {
   "cell_type": "markdown",
   "metadata": {},
   "source": [
    "Ensure the there is not `Python (env_dvf)` kernel running"
   ]
  },
  {
   "cell_type": "code",
   "execution_count": null,
   "metadata": {},
   "outputs": [],
   "source": [
    "# Convert to SDFs\n",
    "!/usr/bin/python3 convert_ttf_to_sfd.py --split train --language eng --ttf_path \"/notebooks/dvf10/data_lttr_ext/font_ttfs\" --sfd_path \"/notebooks/dvf10/data_lttr_ext/font_sfds\" --workers 4"
   ]
  },
  {
   "cell_type": "markdown",
   "metadata": {},
   "source": [
    "## Aktivate `Python (env_dvf)` kernel\n",
    "`ensure the notebook is running on `Python (env_dvf)` kernel"
   ]
  },
  {
   "cell_type": "code",
   "execution_count": null,
   "metadata": {},
   "outputs": [],
   "source": [
    "python write_glyph_imgs.py --split train --language eng --ttf_path \"/notebooks/dvf/data_lttr_ext/font_ttfs\" --sfd_path \"/notebooks/dvf/data_lttr_ext/font_sfds\""
   ]
  },
  {
   "cell_type": "code",
   "execution_count": null,
   "metadata": {},
   "outputs": [],
   "source": [
    "python write_data_to_dirs.py --split train --language eng --ttf_path \"..data_lttr_ext/font_ttfs\" --sfd_path \"../data_lttr_ext/font_sfds\" --output_path \"../data_lttr_ext/vecfont_dataset\""
   ]
  },
  {
   "cell_type": "code",
   "execution_count": null,
   "metadata": {},
   "outputs": [],
   "source": [
    "python write_data_to_dirs.py --split train --language eng --ttf_path \"/notebooks/dvf/data_lttr_ext/font_ttfs\" --sfd_path \"/notebooks/dvf/data_lttr_ext/font_sfds\" --output_path \"/notebooks/dvf/data_lttr_ext/vecfont_dataset\""
   ]
  },
  {
   "cell_type": "code",
   "execution_count": null,
   "metadata": {},
   "outputs": [],
   "source": [
    "python relax_rep.py --split train --language eng --max_len 51 --output_path \"/notebooks/dvf/data_lttr_ext/vecfont_dataset\""
   ]
  }
 ],
 "metadata": {
  "kernelspec": {
   "display_name": "Python 3 (ipykernel)",
   "language": "python",
   "name": "python3"
  },
  "language_info": {
   "codemirror_mode": {
    "name": "ipython",
    "version": 3
   },
   "file_extension": ".py",
   "mimetype": "text/x-python",
   "name": "python",
   "nbconvert_exporter": "python",
   "pygments_lexer": "ipython3",
   "version": "3.11.7"
  }
 },
 "nbformat": 4,
 "nbformat_minor": 4
}
